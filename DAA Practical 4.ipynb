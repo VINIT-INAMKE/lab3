{
 "cells": [
  {
   "cell_type": "code",
   "execution_count": 2,
   "id": "0ab78612-7497-4cfd-8296-cd90aae47cc3",
   "metadata": {},
   "outputs": [
    {
     "name": "stdin",
     "output_type": "stream",
     "text": [
      "Enter the number of items:  4\n",
      "Enter the values of the items:  3 4 5 6\n",
      "Enter the weights of the items:  2 3 4 6\n",
      "Enter the maximum capacity of the knapsack:  5\n"
     ]
    },
    {
     "name": "stdout",
     "output_type": "stream",
     "text": [
      "Maximum value: 7\n",
      "Selected items (0-indexed): [1, 0]\n"
     ]
    }
   ],
   "source": [
    "def knapsack_01(n, values, weights, W):\n",
    "    dp = [[0] * (W + 1) for _ in range(n + 1)]\n",
    "    for i in range(1, n + 1):\n",
    "        for w in range(W + 1):\n",
    "            if weights[i - 1] <= w:\n",
    "                dp[i][w] = max(dp[i - 1][w], dp[i - 1][w - weights[i - 1]] + values[i - 1])\n",
    "            else:\n",
    "                dp[i][w] = dp[i - 1][w]\n",
    "\n",
    "    selected_items = []\n",
    "    w = W\n",
    "    for i in range(n, 0, -1):\n",
    "        if dp[i][w] != dp[i - 1][w]:\n",
    "            selected_items.append(i - 1)\n",
    "            w -= weights[i - 1]\n",
    "    return dp[n][W], selected_items\n",
    "\n",
    "# Example usage\n",
    "n = int(input(\"Enter the number of items: \"))\n",
    "values = list(map(int, input(\"Enter the values of the items: \").split()))\n",
    "weights = list(map(int, input(\"Enter the weights of the items: \").split()))\n",
    "W = int(input(\"Enter the maximum capacity of the knapsack: \"))\n",
    "max_value, selected_items = knapsack_01(n, values, weights, W)\n",
    "print(\"Maximum value:\", max_value)\n",
    "print(\"Selected items (0-indexed):\", selected_items)\n"
   ]
  },
  {
   "cell_type": "code",
   "execution_count": null,
   "id": "4759d937-5b4e-4040-98e5-2fcff09322d2",
   "metadata": {},
   "outputs": [],
   "source": []
  }
 ],
 "metadata": {
  "kernelspec": {
   "display_name": "Python 3 (ipykernel)",
   "language": "python",
   "name": "python3"
  },
  "language_info": {
   "codemirror_mode": {
    "name": "ipython",
    "version": 3
   },
   "file_extension": ".py",
   "mimetype": "text/x-python",
   "name": "python",
   "nbconvert_exporter": "python",
   "pygments_lexer": "ipython3",
   "version": "3.12.4"
  }
 },
 "nbformat": 4,
 "nbformat_minor": 5
}
