{
 "cells": [
  {
   "cell_type": "code",
   "execution_count": 3,
   "id": "ab202ba1-de9c-465c-805a-8fddd11f1720",
   "metadata": {},
   "outputs": [
    {
     "name": "stdin",
     "output_type": "stream",
     "text": [
      "Enter number of characters:  4\n",
      "Enter character 1:  B\n",
      "Enter character 2:  C\n",
      "Enter character 3:  A\n",
      "Enter character 4:  D\n",
      "Enter frequency of B:  1\n",
      "Enter frequency of C:  6\n",
      "Enter frequency of A:  5\n",
      "Enter frequency of D:  3\n"
     ]
    },
    {
     "name": "stdout",
     "output_type": "stream",
     "text": [
      "\n",
      "Huffman Codes:\n",
      "C -> 0\n",
      "B -> 100\n",
      "D -> 101\n",
      "A -> 11\n",
      "\n",
      "Total size before encoding: 120 bits\n",
      "Total size after encoding: 28 bits\n",
      "Encoded Data Representation: 75 bits\n"
     ]
    }
   ],
   "source": [
    "import heapq\n",
    "\n",
    "def create_nodes(chars, freqs):\n",
    "    return [[freqs[i], chars[i], \"\", None, None] for i in range(len(chars))]\n",
    "\n",
    "def build_huffman_tree(nodes):\n",
    "    heapq.heapify(nodes)\n",
    "    while len(nodes) > 1:\n",
    "        left = heapq.heappop(nodes)\n",
    "        right = heapq.heappop(nodes)\n",
    "        left[2], right[2] = \"0\", \"1\"  # Assign '0' and '1' to left and right\n",
    "        merged_node = [left[0] + right[0], \"\", \"\", left, right]\n",
    "        heapq.heappush(nodes, merged_node)\n",
    "    return nodes[0]\n",
    "\n",
    "def assign_codes(node, val=\"\", codes={}):\n",
    "    newval = val + node[2]\n",
    "    if node[3] or node[4]:  # Internal node\n",
    "        if node[3]: assign_codes(node[3], newval, codes)\n",
    "        if node[4]: assign_codes(node[4], newval, codes)\n",
    "    else:  # Leaf node\n",
    "        codes[node[1]] = newval\n",
    "    return codes\n",
    "\n",
    "def huffman_encoding(chars, freqs):\n",
    "    nodes = create_nodes(chars, freqs)\n",
    "    huffman_tree = build_huffman_tree(nodes)\n",
    "    return assign_codes(huffman_tree)\n",
    "\n",
    "# Input for characters and frequencies\n",
    "num_chars = int(input(\"Enter number of characters: \"))\n",
    "chars = [input(f\"Enter character {i + 1}: \") for i in range(num_chars)]\n",
    "freqs = [int(input(f\"Enter frequency of {chars[i]}: \")) for i in range(num_chars)]\n",
    "\n",
    "# Generate Huffman codes and calculate sizes\n",
    "codes = huffman_encoding(chars, freqs)\n",
    "total_size_before = sum(freqs) * 8\n",
    "total_size_after = sum(freqs[i] * len(codes[chars[i]]) for i in range(num_chars))\n",
    "encoded_data_representation = num_chars * 8 + sum(freqs) + total_size_after\n",
    "\n",
    "# Print results\n",
    "print(\"\\nHuffman Codes:\")\n",
    "for char, code in codes.items():\n",
    "    print(f\"{char} -> {code}\")\n",
    "print(\"\\nTotal size before encoding:\", total_size_before, \"bits\")\n",
    "print(\"Total size after encoding:\", total_size_after, \"bits\")\n",
    "print(\"Encoded Data Representation:\", encoded_data_representation, \"bits\")\n"
   ]
  }
 ],
 "metadata": {
  "kernelspec": {
   "display_name": "Python 3 (ipykernel)",
   "language": "python",
   "name": "python3"
  },
  "language_info": {
   "codemirror_mode": {
    "name": "ipython",
    "version": 3
   },
   "file_extension": ".py",
   "mimetype": "text/x-python",
   "name": "python",
   "nbconvert_exporter": "python",
   "pygments_lexer": "ipython3",
   "version": "3.12.4"
  }
 },
 "nbformat": 4,
 "nbformat_minor": 5
}
