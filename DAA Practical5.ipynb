{
 "cells": [
  {
   "cell_type": "code",
   "execution_count": 1,
   "id": "56908167-1419-40a4-9c66-84f06fc940e7",
   "metadata": {},
   "outputs": [
    {
     "name": "stdin",
     "output_type": "stream",
     "text": [
      "Enter the number of queens:  8\n"
     ]
    },
    {
     "name": "stdout",
     "output_type": "stream",
     "text": [
      "Initial State:\n",
      "❌ ❌ ❌ ❌ ❌ ❌ ❌ ❌ \n",
      "❌ ❌ ❌ ❌ ❌ ❌ ❌ ❌ \n",
      "❌ ❌ ❌ ❌ ❌ ❌ ❌ ❌ \n",
      "❌ ❌ ❌ ❌ ❌ ❌ ❌ ❌ \n",
      "❌ ❌ ❌ ❌ ❌ ❌ ❌ ❌ \n",
      "❌ ❌ ❌ ❌ ❌ ❌ ❌ ❌ \n",
      "❌ ❌ ❌ ❌ ❌ ❌ ❌ ❌ \n",
      "❌ ❌ ❌ ❌ ❌ ❌ ❌ ❌ \n",
      "\n",
      "Final State:\n",
      "👑 ❌ ❌ ❌ ❌ ❌ ❌ ❌ \n",
      "❌ ❌ ❌ ❌ 👑 ❌ ❌ ❌ \n",
      "❌ ❌ ❌ ❌ ❌ ❌ ❌ 👑 \n",
      "❌ ❌ ❌ ❌ ❌ 👑 ❌ ❌ \n",
      "❌ ❌ 👑 ❌ ❌ ❌ ❌ ❌ \n",
      "❌ ❌ ❌ ❌ ❌ ❌ 👑 ❌ \n",
      "❌ 👑 ❌ ❌ ❌ ❌ ❌ ❌ \n",
      "❌ ❌ ❌ 👑 ❌ ❌ ❌ ❌ \n"
     ]
    }
   ],
   "source": [
    "def disp_board(board):\n",
    "    for row in board:\n",
    "        for col in row:\n",
    "            print(u\"\\U0001F451\" if col == 1 else u\"\\u274C\", end=' ')\n",
    "        print()\n",
    "\n",
    "def is_attack(board, i, j, N):\n",
    "    for k in range(N):\n",
    "        if board[i][k] == 1 or board[k][j] == 1:\n",
    "            return True\n",
    "    for k in range(N):\n",
    "        for l in range(N):\n",
    "            if (k + l == i + j) or (k - l == i - j):\n",
    "                if board[k][l] == 1:\n",
    "                    return True\n",
    "    return False\n",
    "\n",
    "def N_queen(board, n, N):\n",
    "    if n == 0:\n",
    "        return True\n",
    "    for i in range(N):\n",
    "        for j in range(N):\n",
    "            if not is_attack(board, i, j, N) and board[i][j] != 1:\n",
    "                board[i][j] = 1\n",
    "                if N_queen(board, n - 1, N):\n",
    "                    return True\n",
    "                board[i][j] = 0\n",
    "    return False\n",
    "\n",
    "# Example usage:\n",
    "N = int(input(\"Enter the number of queens: \"))\n",
    "board = [[0] * N for _ in range(N)]\n",
    "print('Initial State:')\n",
    "disp_board(board)\n",
    "if N_queen(board, N, N):\n",
    "    print('\\nFinal State:')\n",
    "    disp_board(board)\n",
    "else:\n",
    "    print(\"No solution found.\")\n"
   ]
  }
 ],
 "metadata": {
  "kernelspec": {
   "display_name": "Python 3 (ipykernel)",
   "language": "python",
   "name": "python3"
  },
  "language_info": {
   "codemirror_mode": {
    "name": "ipython",
    "version": 3
   },
   "file_extension": ".py",
   "mimetype": "text/x-python",
   "name": "python",
   "nbconvert_exporter": "python",
   "pygments_lexer": "ipython3",
   "version": "3.12.4"
  }
 },
 "nbformat": 4,
 "nbformat_minor": 5
}
