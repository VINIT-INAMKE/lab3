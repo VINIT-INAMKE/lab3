{
 "cells": [
  {
   "cell_type": "code",
   "execution_count": 4,
   "id": "7a53b61c-d5cc-451a-8b5b-565bfa135360",
   "metadata": {},
   "outputs": [
    {
     "name": "stdin",
     "output_type": "stream",
     "text": [
      "Enter number of elements:  10\n"
     ]
    },
    {
     "name": "stdout",
     "output_type": "stream",
     "text": [
      "Original array: [722, 180, 908, 182, 230, 1000, 631, 118, 961, 126]\n",
      "\n",
      "Deterministic QuickSort sorted array: [118, 126, 180, 182, 230, 631, 722, 908, 961, 1000]\n",
      "Time: 0.0000 sec\n",
      "\n",
      "Randomized QuickSort sorted array: [118, 126, 180, 182, 182, 230, 230, 631, 722, 1000]\n",
      "Time: 0.0000 sec\n"
     ]
    }
   ],
   "source": [
    "import time, random\n",
    "\n",
    "def quick_sort(arr, low, high, randomized=False):\n",
    "    if low < high:\n",
    "        if randomized: arr[high], arr[random.randint(low, high)] = arr[random.randint(low, high)], arr[high]\n",
    "        pivot, i = arr[high], low - 1\n",
    "        for j in range(low, high):\n",
    "            if arr[j] < pivot: i += 1; arr[i], arr[j] = arr[j], arr[i]\n",
    "        arr[i + 1], arr[high] = arr[high], arr[i + 1]\n",
    "        quick_sort(arr, low, i, randomized); quick_sort(arr, i + 2, high, randomized)\n",
    "\n",
    "def analyze_sorts(arr):\n",
    "    for name, rnd in [(\"Deterministic\", False), (\"Randomized\", True)]:\n",
    "        arr_copy, start = arr[:], time.time()\n",
    "        quick_sort(arr_copy, 0, len(arr_copy) - 1, rnd)\n",
    "        print(f\"\\n{name} QuickSort sorted array: {arr_copy}\\nTime: {time.time() - start:.4f} sec\")\n",
    "\n",
    "# Main code\n",
    "if __name__ == \"__main__\":\n",
    "    arr = [random.randint(1, 1000) for _ in range(int(input(\"Enter number of elements: \")))]\n",
    "    print(\"Original array:\", arr)\n",
    "    analyze_sorts(arr)\n"
   ]
  },
  {
   "cell_type": "code",
   "execution_count": null,
   "id": "091c1dd6-1e4b-4488-bcdc-9b6b8aecfbe1",
   "metadata": {},
   "outputs": [],
   "source": []
  }
 ],
 "metadata": {
  "kernelspec": {
   "display_name": "Python 3 (ipykernel)",
   "language": "python",
   "name": "python3"
  },
  "language_info": {
   "codemirror_mode": {
    "name": "ipython",
    "version": 3
   },
   "file_extension": ".py",
   "mimetype": "text/x-python",
   "name": "python",
   "nbconvert_exporter": "python",
   "pygments_lexer": "ipython3",
   "version": "3.12.4"
  }
 },
 "nbformat": 4,
 "nbformat_minor": 5
}
