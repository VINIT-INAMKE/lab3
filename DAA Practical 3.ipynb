{
 "cells": [
  {
   "cell_type": "code",
   "execution_count": null,
   "id": "9a038c46-80e9-4920-aaaf-b8eab5107156",
   "metadata": {},
   "outputs": [
    {
     "name": "stdin",
     "output_type": "stream",
     "text": [
      "Enter the number of items:  5\n",
      "Enter value of item 1:  12\n",
      "Enter weight of item 1:  2\n"
     ]
    }
   ],
   "source": [
    "def fractional_knapsack(values, weights, capacity):\n",
    "    items = []\n",
    "    for i in range(len(values)):\n",
    "        value = values[i]\n",
    "        weight = weights[i]\n",
    "        ratio = value / weight\n",
    "        items.append((value, weight, ratio))\n",
    "    items.sort(key=lambda x: x[2], reverse=True)\n",
    "    total_value = 0.0  \n",
    "    included_items = []  \n",
    "    for value, weight, ratio in items:\n",
    "        if capacity <= 0:\n",
    "            break \n",
    "        if weight <= capacity:\n",
    "            total_value += value \n",
    "            included_items.append((value, weight, \"1/1\"))  \n",
    "            capacity -= weight  \n",
    "        else:   \n",
    "            fraction = capacity / weight\n",
    "            total_value += value * fraction\n",
    "            included_items.append((value, weight, f\"{capacity}/{weight}\")) \n",
    "            capacity = 0 \n",
    "    print(\"Items included in the knapsack:\")\n",
    "    for value, weight, fraction in included_items:\n",
    "        print(f\"Value: {value}, Weight: {weight}, Fraction: {fraction}\")\n",
    "    return total_value  \n",
    "\n",
    "if __name__ == \"__main__\":\n",
    "\n",
    "    n = int(input(\"Enter the number of items: \"))\n",
    "    \n",
    "    values = []\n",
    "    weights = []\n",
    "    \n",
    "    for i in range(n):\n",
    "        value = int(input(f\"Enter value of item {i + 1}: \"))\n",
    "        weight = int(input(f\"Enter weight of item {i + 1}: \"))\n",
    "        values.append(value)\n",
    "        weights.append(weight)\n",
    "\n",
    "    capacity = int(input(\"Enter the capacity of the knapsack: \"))\n",
    "    max_value = fractional_knapsack(values, weights, capacity)\n",
    "    print(f\"Maximum value in the knapsack: {max_value}\")"
   ]
  },
  {
   "cell_type": "code",
   "execution_count": null,
   "id": "23964b16-066b-4c66-90fa-4f7f634bccab",
   "metadata": {},
   "outputs": [],
   "source": []
  }
 ],
 "metadata": {
  "kernelspec": {
   "display_name": "Python 3 (ipykernel)",
   "language": "python",
   "name": "python3"
  },
  "language_info": {
   "codemirror_mode": {
    "name": "ipython",
    "version": 3
   },
   "file_extension": ".py",
   "mimetype": "text/x-python",
   "name": "python",
   "nbconvert_exporter": "python",
   "pygments_lexer": "ipython3",
   "version": "3.12.4"
  }
 },
 "nbformat": 4,
 "nbformat_minor": 5
}
